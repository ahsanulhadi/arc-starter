{
 "cells": [
  {
   "cell_type": "markdown",
   "metadata": {},
   "source": [
    "# Fuzzy Match\n",
    "\n",
    "This example demonstrates using the [SimilarityJoinTransform](https://arc.tripl.ai/transform/#similarityjointransform) stage to perform [Approximate string matching](https://en.wikipedia.org/wiki/Approximate_string_matching) (a.k.a. Fuzzy Matching) to compare two datasets for similar records.\n",
    "\n",
    "In this case the reference dataset is a very small subset of the [PSMA Geocoded National Address File (G-NAF)](https://data.gov.au/dataset/ds-dga-19432f89-dc3a-4ef3-b943-5326ef1dbecc/details) which contains all official Australian addresses. \n",
    "\n",
    "The second dataset is an example dataset which could be extracted from your Customer Reference Management system.\n",
    "\n",
    "The `SimilarityJoinTransform` stage uses [Locality Sensitive Hashing (LSH)](https://databricks.com/blog/2017/05/09/detecting-abuse-scale-locality-sensitive-hashing-uber-engineering.html) to efficiently compare and join the datasets based on their `similarity` value. The `threshold` parameter can be used to configure how similar the values must be before they are returns as a 'joined' record in the output. The `shingleLength` parameter can be used to tweak the comparison and can be experimented with for your dataset."
   ]
  },
  {
   "cell_type": "code",
   "execution_count": null,
   "metadata": {},
   "outputs": [],
   "source": [
    "%env\n",
    "ETL_CONF_BASE_PATH=/home/jovyan/examples/fuzzy_match"
   ]
  },
  {
   "cell_type": "code",
   "execution_count": null,
   "metadata": {},
   "outputs": [],
   "source": [
    "{\n",
    "  \"type\": \"DelimitedExtract\",\n",
    "  \"name\": \"load Geocoded National Address File extract\",\n",
    "  \"environments\": [\n",
    "    \"production\",\n",
    "    \"test\"\n",
    "  ],\n",
    "  \"inputURI\": ${ETL_CONF_BASE_PATH}\"/gnaf.csv\",\n",
    "  \"outputView\": \"gnaf\",\n",
    "  \"header\": true\n",
    "}"
   ]
  },
  {
   "cell_type": "code",
   "execution_count": null,
   "metadata": {},
   "outputs": [],
   "source": [
    "{\n",
    "  \"type\": \"DelimitedExtract\",\n",
    "  \"name\": \"load addresses from customer master system\",\n",
    "  \"environments\": [\n",
    "    \"production\",\n",
    "    \"test\"\n",
    "  ],\n",
    "  \"inputURI\": ${ETL_CONF_BASE_PATH}\"/addresses.csv\",\n",
    "  \"outputView\": \"addresses\",\n",
    "  \"header\": true\n",
    "}"
   ]
  },
  {
   "cell_type": "code",
   "execution_count": null,
   "metadata": {},
   "outputs": [],
   "source": [
    "{\n",
    "  \"type\": \"SimilarityJoinTransform\",\n",
    "  \"name\": \"look up addresses against the national address database\",\n",
    "  \"environments\": [\n",
    "    \"production\",\n",
    "    \"test\"\n",
    "  ],\n",
    "  \"leftView\": \"gnaf\",\n",
    "  \"leftFields\": [\"flat_number\", \"number_first\", \"street_name\", \"street_type\", \"locality_name\", \"postcode\", \"state\"],\n",
    "  \"rightView\": \"addresses\",\n",
    "  \"rightFields\": [\"street\", \"state_postcode_suburb\"],\n",
    "  \"outputView\": \"matches\",\n",
    "  \"threshold\": 0.50,\n",
    "  \"shingleLength\": 3\n",
    "}"
   ]
  },
  {
   "cell_type": "code",
   "execution_count": null,
   "metadata": {},
   "outputs": [],
   "source": []
  }
 ],
 "metadata": {
  "kernelspec": {
   "display_name": "Arc",
   "language": "javascript",
   "name": "arc"
  },
  "language_info": {
   "file_extension": "arc",
   "mimetype": "text/arc",
   "name": "arc",
   "nbconvert_exporter": "text",
   "version": "1.9.3"
  }
 },
 "nbformat": 4,
 "nbformat_minor": 2
}
