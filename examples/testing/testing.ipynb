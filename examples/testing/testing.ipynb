{
 "cells": [
  {
   "cell_type": "markdown",
   "metadata": {},
   "source": [
    "# Testing\n",
    "\n",
    "This example demonstrates using the [EqualityValidate](https://arc.tripl.ai/validate/#equalityvalidate) stage and the `ETL_CONF_ENVIRONMENT` to perform data assertions for testing. This can then be used in a Continuous Integration/Continuous Deployment (CICD) process to prevent jobs reaching `production` without at least some business logic verification."
   ]
  },
  {
   "cell_type": "markdown",
   "metadata": {
    "ExecuteTime": {
     "end_time": "2020-01-20T07:20:37.079385Z",
     "start_time": "2020-01-20T07:20:37.032Z"
    }
   },
   "source": [
    "## Standard Data Extract and Typing\n",
    "\n",
    "Run the standard extract, data typing and typing verification process."
   ]
  },
  {
   "cell_type": "code",
   "execution_count": null,
   "metadata": {},
   "outputs": [],
   "source": [
    "{\n",
    "  \"type\": \"DelimitedExtract\",\n",
    "  \"name\": \"extract data from green_tripdata schema 0\",\n",
    "  \"environments\": [\"production\", \"test\"],\n",
    "  \"inputURI\": \"/home/jovyan/examples/tutorial/data/nyc-tlc/trip-data/green_tripdata_2013-*.csv.gz\",\n",
    "  \"outputView\": \"green_tripdata0_raw\",            \n",
    "  \"delimiter\": \"Comma\",\n",
    "  \"quote\" : \"DoubleQuote\",\n",
    "  \"header\": true\n",
    "}"
   ]
  },
  {
   "cell_type": "code",
   "execution_count": null,
   "metadata": {},
   "outputs": [],
   "source": [
    "{\n",
    "  \"type\": \"TypingTransform\",\n",
    "  \"name\": \"apply green_tripdata schema 0 data types\",\n",
    "  \"environments\": [\"production\", \"test\"],\n",
    "  \"schemaURI\": \"/home/jovyan/examples/testing/green_tripdata0.json\",\n",
    "  \"inputView\": \"green_tripdata0_raw\",            \n",
    "  \"outputView\": \"green_tripdata0\",\n",
    "  \"persist\": true\n",
    "}"
   ]
  },
  {
   "cell_type": "code",
   "execution_count": null,
   "metadata": {},
   "outputs": [],
   "source": [
    "{\n",
    "  \"type\": \"SQLValidate\",\n",
    "  \"name\": \"ensure no errors exist after data typing\",\n",
    "  \"environments\": [\"production\", \"test\"],\n",
    "  \"inputURI\": \"/home/jovyan/examples/testing/sqlvalidate_errors.sql\",            \n",
    "  \"sqlParams\": {\n",
    "    \"inputView\": \"green_tripdata0\"\n",
    "  }\n",
    "}"
   ]
  },
  {
   "cell_type": "markdown",
   "metadata": {},
   "source": [
    "## Apply business rules\n",
    "\n",
    "Apply some business logic to the typed dataset (`green_tripdata0`) with a `SQLTransform` stage to simulate business rules. For example this query calculates the percentage of different payment methods by month which could be used by a business to track whether to keep accepting cash etc.\n",
    "\n",
    "```sql\n",
    "-- this query calculates the percentage of different payment methods by month which could be used by a business to track whether to keep accepting cash etc.\n",
    "\n",
    "-- get a count of all records so monthly percentage can be calculated\n",
    "WITH green_tripdata_monthly_trips AS (\n",
    "  SELECT \n",
    "    COUNT(payment_type) AS green_tripdata_count \n",
    "    ,DATE_TRUNC('MM', lpep_pickup_datetime) AS month\n",
    "  FROM green_tripdata0\n",
    "  GROUP BY month\n",
    ")\n",
    "-- use the count to calcualte percentages\n",
    "SELECT \n",
    "  CASE\n",
    "    WHEN payment_type = '1' THEN 'Credit card'\n",
    "    WHEN payment_type = '2' THEN 'Cash'\n",
    "    WHEN payment_type = '3' THEN 'No charge'\n",
    "    WHEN payment_type = '4' THEN 'Dispute'\n",
    "    WHEN payment_type = '5' THEN 'Unknown'\n",
    "    WHEN payment_type = '6' THEN 'Voided trip'\n",
    "    ELSE 'Unknown'\n",
    "  END AS payment_type\n",
    "  ,DATE_TRUNC('MM', lpep_pickup_datetime) AS month\n",
    "  ,COUNT(payment_type) / green_tripdata_count AS percent\n",
    "FROM green_tripdata0\n",
    "INNER JOIN green_tripdata_monthly_trips ON DATE_TRUNC('MM', green_tripdata0.lpep_pickup_datetime) = green_tripdata_monthly_trips.month\n",
    "GROUP BY payment_type, DATE_TRUNC('MM', green_tripdata0.lpep_pickup_datetime), green_tripdata_count\n",
    "ORDER BY payment_type, DATE_TRUNC('MM', green_tripdata0.lpep_pickup_datetime)\n",
    "```"
   ]
  },
  {
   "cell_type": "code",
   "execution_count": null,
   "metadata": {},
   "outputs": [],
   "source": [
    "{\n",
    "  \"type\": \"SQLTransform\",\n",
    "  \"name\": \"calculate payment method percent over time\",\n",
    "  \"environments\": [\n",
    "    \"production\",\n",
    "    \"test\"\n",
    "  ],\n",
    "  \"inputURI\": \"/home/jovyan/examples/testing/payment_type_over_time.sql\",\n",
    "  \"outputView\": \"payment_type_over_time\"\n",
    "}"
   ]
  },
  {
   "cell_type": "markdown",
   "metadata": {},
   "source": [
    "## Snapshot the data\n",
    "\n",
    "Work with the business owners to define what a 'correct' result would be based on an unchanged input set. A snapshot of this data can then be taken by either running a `ParquetLoad` stage like:\n",
    "\n",
    "```json\n",
    "{\n",
    "  \"type\": \"ParquetLoad\",\n",
    "  \"name\": \"write out payment_type_over_time\",\n",
    "  \"environments\": [],\n",
    "  \"inputView\": \"payment_type_over_time\",\n",
    "  \"outputURI\": \"/home/jovyan/examples/testing/payment_type_over_time_correct.parquet\",\n",
    "  \"saveMode\": \"Overwrite\"\n",
    "}\n",
    "```\n",
    "\n",
    "... or you can manually create the 'correct' result using a completely different tool like Python using PyArrow which will produce a set which can be validated to be the same in CICD:\n",
    "\n",
    "```python\n",
    "# imports\n",
    "import decimal\n",
    "import datetime\n",
    "import pytz\n",
    "import pyarrow as pa\n",
    "import pyarrow.parquet as pq\n",
    "\n",
    "# create the result set as pyarrow arrays\n",
    "payment_type = pa.array(['Cash', 'Cash', 'Cash', 'Credit card', 'Credit card', 'Credit card', 'Dispute', 'Dispute', 'No charge', 'No charge', 'No charge'], type=pa.string())\n",
    "month = pa.array([datetime.datetime(2013, 8, 1, 0, 0, 0, 0, tzinfo=pytz.UTC), datetime.datetime(2013, 9, 1, 0, 0, 0, 0, tzinfo=pytz.UTC), datetime.datetime(2013, 10, 1, 0, 0, 0, 0, tzinfo=pytz.UTC), datetime.datetime(2013, 8, 1, 0, 0, 0, 0, tzinfo=pytz.UTC), datetime.datetime(2013, 9, 1, 0, 0, 0, 0, tzinfo=pytz.UTC), datetime.datetime(2013, 10, 1, 0, 0, 0, 0, tzinfo=pytz.UTC), datetime.datetime(2013, 8, 1, 0, 0, 0, 0, tzinfo=pytz.UTC), datetime.datetime(2013, 9, 1, 0, 0, 0, 0, tzinfo=pytz.UTC), datetime.datetime(2013, 8, 1, 0, 0, 0, 0, tzinfo=pytz.UTC), datetime.datetime(2013, 9, 1, 0, 0, 0, 0, tzinfo=pytz.UTC), datetime.datetime(2013, 10, 1, 0, 0, 0, 0, tzinfo=pytz.UTC)])\n",
    "percent = pa.array([0.6964044336, 0.6551807814, 0.6619047619, 0.2977831846, 0.3384291839, 0.3357142857, 0.0018924034, 0.0026894767, 0.0039199784, 0.0037005581, 0.0023809524], type=pa.float64())\n",
    "\n",
    "# create the arrow table\n",
    "# we are using an arrow table rather than a dataframe to correctly align with spark datatypes\n",
    "table = pa.Table.from_arrays([payment_type, month, percent], \n",
    "  ['payment_type', 'month', 'percent'])\n",
    "\n",
    "# write table to disk\n",
    "pq.write_table(table, '/home/jovyan/examples/testing/payment_type_over_time_correct.parquet', flavor='spark')\n",
    "```"
   ]
  },
  {
   "cell_type": "markdown",
   "metadata": {},
   "source": [
    "## Configure the Testing\n",
    "\n",
    "Once a known 'correct' snapshot has been created it can be configured to be extracted and tested for equality when only in test mode (i.e. `ETL_CONF_ENVIRONMENT=test`). This means that if the job was being run in production mode (i.e. `ETL_CONF_ENVIRONMENT=production`) these two next stages would be skipped.\n",
    "\n",
    "Note:\n",
    "\n",
    "```json\n",
    "  \"environments\": [\n",
    "    \"test\"\n",
    "  ]\n",
    "```\n",
    "\n",
    "To prove this works it is easy to modify the `payment_type_over_time` SQL query like `,COUNT(payment_type) / green_tripdata_count + 1 AS percent` to see the job fail."
   ]
  },
  {
   "cell_type": "code",
   "execution_count": null,
   "metadata": {},
   "outputs": [],
   "source": [
    "{\n",
    "  \"type\": \"ParquetExtract\",\n",
    "  \"name\": \"load customers\",\n",
    "  \"environments\": [\n",
    "    \"test\"\n",
    "  ],\n",
    "  \"inputURI\": \"/home/jovyan/examples/testing/payment_type_over_time_correct.parquet\",\n",
    "  \"outputView\": \"payment_type_over_time_correct\"\n",
    "}"
   ]
  },
  {
   "cell_type": "code",
   "execution_count": null,
   "metadata": {},
   "outputs": [],
   "source": [
    "{\n",
    "  \"type\": \"EqualityValidate\",\n",
    "  \"name\": \"verify calculated payment_type_over_time data equals confirmed correct payment_type_over_time_correct (test only)\",\n",
    "  \"environments\": [\n",
    "    \"test\"\n",
    "  ],\n",
    "  \"leftView\": \"payment_type_over_time\",\n",
    "  \"rightView\": \"payment_type_over_time_correct\"\n",
    "}"
   ]
  },
  {
   "cell_type": "code",
   "execution_count": null,
   "metadata": {},
   "outputs": [],
   "source": [
    "{\n",
    "  \"type\": \"DeltaLakeLoad\",\n",
    "  \"name\": \"write out green_tripdata0 dataset\",\n",
    "  \"environments\": [\"production\", \"test\"],\n",
    "  \"inputView\": \"green_tripdata0\",\n",
    "  \"outputURI\": \"/home/jovyan/examples/tutorial/0/output/green_tripdata0.delta\",\n",
    "  \"saveMode\": \"Overwrite\",\n",
    "  \"partitionBy\": [\n",
    "    \"vendor_id\"\n",
    "  ]\n",
    "}"
   ]
  }
 ],
 "metadata": {
  "kernelspec": {
   "display_name": "Arc",
   "language": "javascript",
   "name": "arc"
  },
  "language_info": {
   "file_extension": "arc",
   "mimetype": "text/arc",
   "name": "arc",
   "nbconvert_exporter": "text",
   "version": "1.9.3"
  }
 },
 "nbformat": 4,
 "nbformat_minor": 2
}
