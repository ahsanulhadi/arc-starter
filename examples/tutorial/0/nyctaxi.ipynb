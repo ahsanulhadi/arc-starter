{
 "cells": [
  {
   "cell_type": "code",
   "execution_count": null,
   "metadata": {},
   "outputs": [],
   "source": [
    "{\n",
    "  \"type\": \"DelimitedExtract\",\n",
    "  \"name\": \"extract data from green_tripdata schema 0\",\n",
    "  \"environments\": [\"production\", \"test\"],\n",
    "  \"inputURI\": \"s3a://nyc-tlc/trip*data/green_tripdata_2013-08.csv\",\n",
    "  \"outputView\": \"green_tripdata0_raw\",            \n",
    "  \"delimiter\": \"Comma\",\n",
    "  \"quote\" : \"DoubleQuote\",\n",
    "  \"header\": true,\n",
    "  \"persist\": true\n",
    "}"
   ]
  },
  {
   "cell_type": "code",
   "execution_count": null,
   "metadata": {},
   "outputs": [],
   "source": [
    "{\n",
    "  \"type\": \"TypingTransform\",\n",
    "  \"name\": \"apply green_tripdata schema 0 data types\",\n",
    "  \"environments\": [\"production\", \"test\"],\n",
    "  \"schemaURI\": \"/home/jovyan/examples/tutorial/0/green_tripdata0.json\",\n",
    "  \"inputView\": \"green_tripdata0_raw\",            \n",
    "  \"outputView\": \"green_tripdata0\"\n",
    "}"
   ]
  },
  {
   "cell_type": "code",
   "execution_count": null,
   "metadata": {},
   "outputs": [],
   "source": [
    "%sqlvalidate name=\"ensure no errors exist after data typing\" environments=production,test\n",
    "SELECT\n",
    "  SUM(error) = 0 AS valid\n",
    "  ,TO_JSON(\n",
    "      NAMED_STRUCT(\n",
    "        'count', COUNT(error), \n",
    "        'errors', SUM(error)\n",
    "      )\n",
    "  ) AS message\n",
    "FROM (\n",
    "  SELECT \n",
    "    CASE \n",
    "      WHEN SIZE(_errors) > 0 THEN 1 \n",
    "      ELSE 0 \n",
    "    END AS error \n",
    "  FROM green_tripdata0\n",
    ") input_table"
   ]
  },
  {
   "cell_type": "code",
   "execution_count": null,
   "metadata": {},
   "outputs": [],
   "source": [
    "%metadata truncate=1000\n",
    "green_tripdata0"
   ]
  },
  {
   "cell_type": "code",
   "execution_count": null,
   "metadata": {},
   "outputs": [],
   "source": [
    "{\n",
    "  \"type\": \"DeltaLakeLoad\",\n",
    "  \"name\": \"write out green_tripdata0 dataset\",\n",
    "  \"environments\": [\"production\", \"test\"],\n",
    "  \"inputView\": \"green_tripdata0\",\n",
    "  \"outputURI\": \"/home/jovyan/examples/tutorial/0/output/green_tripdata0.delta\",\n",
    "  \"saveMode\": \"Overwrite\"\n",
    "}"
   ]
  }
 ],
 "metadata": {
  "kernelspec": {
   "display_name": "Arc",
   "language": "javascript",
   "name": "arc"
  },
  "language_info": {
   "file_extension": "arc",
   "mimetype": "text/arc",
   "name": "arc",
   "nbconvert_exporter": "text",
   "version": "2.0.0"
  }
 },
 "nbformat": 4,
 "nbformat_minor": 2
}
