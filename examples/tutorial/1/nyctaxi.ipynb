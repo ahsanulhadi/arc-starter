{
 "cells": [
  {
   "cell_type": "code",
   "execution_count": null,
   "metadata": {},
   "outputs": [],
   "source": [
    "%env \n",
    "ETL_CONF_DATA_URL=/home/jovyan/examples/tutorial/data/nyc-tlc/trip*data\n",
    "ETL_CONF_JOB_URL=/home/jovyan/examples/tutorial/1"
   ]
  },
  {
   "cell_type": "code",
   "execution_count": null,
   "metadata": {},
   "outputs": [],
   "source": [
    "{\n",
    "  \"type\": \"DelimitedExtract\",\n",
    "  \"name\": \"extract data from green_tripdata schema 0\",\n",
    "  \"environments\": [\"production\", \"test\"],\n",
    "  \"inputURI\": ${ETL_CONF_DATA_URL}\"/green_tripdata_2013-08.csv*\",\n",
    "  \"outputView\": \"green_tripdata0_raw\",            \n",
    "  \"delimiter\": \"Comma\",\n",
    "  \"quote\": \"DoubleQuote\",\n",
    "  \"header\": true,\n",
    "  \"persist\": true,\n",
    "  \"authentication\": {\n",
    "    \"method\": \"AmazonAnonymous\"\n",
    "  }\n",
    "}"
   ]
  },
  {
   "cell_type": "code",
   "execution_count": null,
   "metadata": {},
   "outputs": [],
   "source": [
    "{\n",
    "  \"type\": \"TypingTransform\",\n",
    "  \"name\": \"apply green_tripdata schema 0 data types\",\n",
    "  \"environments\": [\"production\", \"test\"],\n",
    "  \"schemaURI\": ${ETL_CONF_JOB_URL}\"/green_tripdata0.json\",\n",
    "  \"inputView\": \"green_tripdata0_raw\",            \n",
    "  \"outputView\": \"green_tripdata0\",\n",
    "  \"persist\": true  \n",
    "}"
   ]
  },
  {
   "cell_type": "code",
   "execution_count": null,
   "metadata": {},
   "outputs": [],
   "source": [
    "{\n",
    "  \"type\": \"SQLValidate\",\n",
    "  \"name\": \"ensure no errors exist after data typing\",\n",
    "  \"environments\": [\"production\", \"test\"],\n",
    "  \"inputURI\": ${ETL_CONF_JOB_URL}\"/sqlvalidate_errors.sql\",            \n",
    "  \"sqlParams\": {\n",
    "    \"inputView\": \"green_tripdata0\"\n",
    "  }\n",
    "}"
   ]
  },
  {
   "cell_type": "code",
   "execution_count": null,
   "metadata": {},
   "outputs": [],
   "source": [
    "{\n",
    "  \"type\": \"DelimitedExtract\",\n",
    "  \"name\": \"extract data from green_tripdata schema 1\",\n",
    "  \"environments\": [\"production\", \"test\"],\n",
    "  \"inputURI\": ${ETL_CONF_DATA_URL}\"/green_tripdata_2015-01.csv*\",\n",
    "  \"outputView\": \"green_tripdata1_raw\",            \n",
    "  \"delimiter\": \"Comma\",\n",
    "  \"quote\": \"DoubleQuote\",\n",
    "  \"header\": true,\n",
    "  \"persist\": true,\n",
    "  \"authentication\": {\n",
    "    \"method\": \"AmazonAnonymous\"\n",
    "  }  \n",
    "}"
   ]
  },
  {
   "cell_type": "code",
   "execution_count": null,
   "metadata": {},
   "outputs": [],
   "source": [
    "{\n",
    "  \"type\": \"TypingTransform\",\n",
    "  \"name\": \"apply green_tripdata schema 1 data types\",\n",
    "  \"environments\": [\"production\", \"test\"],\n",
    "  \"schemaURI\": ${ETL_CONF_JOB_URL}\"/green_tripdata1.json\",\n",
    "  \"inputView\": \"green_tripdata1_raw\",            \n",
    "  \"outputView\": \"green_tripdata1\",  \n",
    "  \"persist\": true  \n",
    "}"
   ]
  },
  {
   "cell_type": "code",
   "execution_count": null,
   "metadata": {},
   "outputs": [],
   "source": [
    "{\n",
    "  \"type\": \"SQLValidate\",\n",
    "  \"name\": \"ensure no errors exist after data typing\",\n",
    "  \"environments\": [\"production\", \"test\"],\n",
    "  \"inputURI\": ${ETL_CONF_JOB_URL}\"/sqlvalidate_errors.sql\",            \n",
    "  \"sqlParams\": {\n",
    "    \"inputView\": \"green_tripdata1\"\n",
    "  }\n",
    "}"
   ]
  },
  {
   "cell_type": "code",
   "execution_count": null,
   "metadata": {},
   "outputs": [],
   "source": [
    "{\n",
    "  \"type\": \"DelimitedExtract\",\n",
    "  \"name\": \"extract data from green_tripdata schema 2\",\n",
    "  \"environments\": [\"production\", \"test\"],\n",
    "  \"inputURI\": ${ETL_CONF_DATA_URL}\"/green_tripdata_2016-07.csv*\",\n",
    "  \"outputView\": \"green_tripdata2_raw\",            \n",
    "  \"delimiter\": \"Comma\",\n",
    "  \"quote\": \"DoubleQuote\",\n",
    "  \"header\": true,\n",
    "  \"persist\": true,\n",
    "  \"authentication\": {\n",
    "    \"method\": \"AmazonAnonymous\"\n",
    "  }  \n",
    "}"
   ]
  },
  {
   "cell_type": "code",
   "execution_count": null,
   "metadata": {},
   "outputs": [],
   "source": [
    "{\n",
    "  \"type\": \"TypingTransform\",\n",
    "  \"name\": \"apply green_tripdata schema 2 data types\",\n",
    "  \"environments\": [\"production\", \"test\"],\n",
    "  \"schemaURI\": ${ETL_CONF_JOB_URL}\"/green_tripdata2.json\",\n",
    "  \"inputView\": \"green_tripdata2_raw\",            \n",
    "  \"outputView\": \"green_tripdata2\",\n",
    "  \"persist\": true\n",
    "}"
   ]
  },
  {
   "cell_type": "code",
   "execution_count": null,
   "metadata": {},
   "outputs": [],
   "source": [
    "{\n",
    "  \"type\": \"SQLValidate\",\n",
    "  \"name\": \"ensure no errors exist after data typing\",\n",
    "  \"environments\": [\"production\", \"test\"],\n",
    "  \"inputURI\": ${ETL_CONF_JOB_URL}\"/sqlvalidate_errors.sql\",            \n",
    "  \"sqlParams\": {\n",
    "    \"inputView\": \"green_tripdata2\"\n",
    "  }\n",
    "}"
   ]
  },
  {
   "cell_type": "code",
   "execution_count": null,
   "metadata": {},
   "outputs": [],
   "source": [
    "{\n",
    "  \"type\": \"SQLTransform\",\n",
    "  \"name\": \"merge green_tripdata_* to create a full trips\",\n",
    "  \"environments\": [\"production\", \"test\"],\n",
    "  \"inputURI\": ${ETL_CONF_JOB_URL}\"/trips.sql\",\n",
    "  \"outputView\": \"trips\",            \n",
    "  \"persist\": false\n",
    "}"
   ]
  },
  {
   "cell_type": "code",
   "execution_count": null,
   "metadata": {},
   "outputs": [],
   "source": [
    "{\n",
    "  \"type\": \"DeltaLakeLoad\",\n",
    "  \"name\": \"write out trips dataset\",\n",
    "  \"environments\": [\"production\", \"test\"],\n",
    "  \"inputView\": \"trips\",\n",
    "  \"outputURI\": ${ETL_CONF_JOB_URL}\"/output/trips.parquet\",\n",
    "  \"saveMode\": \"Overwrite\",\n",
    "  \"partitionBy\": [\n",
    "    \"vendor_id\"\n",
    "  ]\n",
    "}"
   ]
  },
  {
   "cell_type": "code",
   "execution_count": null,
   "metadata": {},
   "outputs": [],
   "source": []
  }
 ],
 "metadata": {
  "kernelspec": {
   "display_name": "Arc",
   "language": "javascript",
   "name": "arc"
  },
  "language_info": {
   "file_extension": "arc",
   "mimetype": "text/arc",
   "name": "arc",
   "nbconvert_exporter": "text",
   "version": "1.9.0"
  }
 },
 "nbformat": 4,
 "nbformat_minor": 2
}
