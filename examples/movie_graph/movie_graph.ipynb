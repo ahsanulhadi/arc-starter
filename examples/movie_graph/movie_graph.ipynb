{
 "cells": [
  {
   "cell_type": "code",
   "execution_count": null,
   "metadata": {},
   "outputs": [],
   "source": [
    "%conf \n",
    "numRows=10 \n",
    "truncate=100"
   ]
  },
  {
   "cell_type": "code",
   "execution_count": null,
   "metadata": {},
   "outputs": [],
   "source": [
    "%env \n",
    "ETL_CONF_JOB_URL=/home/jovyan/examples/movie_graph\n",
    "ETL_CONF_BASE_URL=https://raw.githubusercontent.com/arangodb/example-datasets/master/Graphs"
   ]
  },
  {
   "cell_type": "code",
   "execution_count": null,
   "metadata": {},
   "outputs": [],
   "source": [
    "{\n",
    "  \"type\": \"HTTPExtract\",\n",
    "  \"name\": \"get nodes\",\n",
    "  \"environments\": [\n",
    "    \"production\",\n",
    "    \"test\"\n",
    "  ],\n",
    "  \"inputURI\": ${ETL_CONF_BASE_URL}\"/IMDB/nodes.json\",\n",
    "  \"outputView\": \"nodes_raw\",\n",
    "  \"persist\": true\n",
    "}"
   ]
  },
  {
   "cell_type": "code",
   "execution_count": null,
   "metadata": {},
   "outputs": [],
   "source": [
    "{\n",
    "  \"type\": \"SQLTransform\",\n",
    "  \"name\": \"split the body\",\n",
    "  \"environments\": [\n",
    "    \"production\",\n",
    "    \"test\"\n",
    "  ],\n",
    "  \"inputURI\": ${ETL_CONF_JOB_URL}\"/split_table.sql\",\n",
    "  \"outputView\": \"nodes_split\",\n",
    "  \"sqlParams\": {\n",
    "    \"inputView\": \"nodes_raw\"\n",
    "  }\n",
    "}"
   ]
  },
  {
   "cell_type": "code",
   "execution_count": null,
   "metadata": {},
   "outputs": [],
   "source": [
    "{\n",
    "  \"type\": \"JSONExtract\",\n",
    "  \"name\": \"users\",\n",
    "  \"environments\": [\"production\", \"test\"],\n",
    "  \"inputView\": \"nodes_split\",\n",
    "  \"inputField\": \"col\",\n",
    "  \"outputView\": \"nodes\",\n",
    "  \"persist\": true\n",
    "}"
   ]
  },
  {
   "cell_type": "code",
   "execution_count": null,
   "metadata": {},
   "outputs": [],
   "source": [
    "%sql outputView=person\n",
    "SELECT \n",
    "  _key AS id\n",
    "  ,label AS name\n",
    "  ,_key AS key\n",
    "FROM nodes\n",
    "WHERE type = 'Person'"
   ]
  },
  {
   "cell_type": "code",
   "execution_count": null,
   "metadata": {},
   "outputs": [],
   "source": [
    "%sql outputView=movie\n",
    "SELECT \n",
    "  _key AS id\n",
    "  ,label AS name\n",
    "  ,_key AS key\n",
    "  ,from_unixtime(releaseDate/1000) AS releaseDate\n",
    "FROM nodes\n",
    "WHERE type = 'Movie'"
   ]
  },
  {
   "cell_type": "code",
   "execution_count": null,
   "metadata": {},
   "outputs": [],
   "source": [
    "{\n",
    "  \"type\": \"HTTPExtract\",\n",
    "  \"name\": \"get edges\",\n",
    "  \"environments\": [\n",
    "    \"production\",\n",
    "    \"test\"\n",
    "  ],\n",
    "  \"inputURI\": ${ETL_CONF_BASE_URL}\"/IMDB/edges.json\",\n",
    "  \"outputView\": \"edges_raw\",\n",
    "  \"persist\": true  \n",
    "}"
   ]
  },
  {
   "cell_type": "code",
   "execution_count": null,
   "metadata": {},
   "outputs": [],
   "source": [
    "{\n",
    "  \"type\": \"SQLTransform\",\n",
    "  \"name\": \"split the body\",\n",
    "  \"environments\": [\n",
    "    \"production\",\n",
    "    \"test\"\n",
    "  ],\n",
    "  \"inputURI\": ${ETL_CONF_JOB_URL}\"/split_table.sql\",\n",
    "  \"outputView\": \"edges_split\",\n",
    "  \"sqlParams\": {\n",
    "    \"inputView\": \"edges_raw\"\n",
    "  }\n",
    "}"
   ]
  },
  {
   "cell_type": "code",
   "execution_count": null,
   "metadata": {},
   "outputs": [],
   "source": [
    "{\n",
    "  \"type\": \"JSONExtract\",\n",
    "  \"name\": \"users\",\n",
    "  \"environments\": [\"production\", \"test\"],\n",
    "  \"inputView\": \"edges_split\",\n",
    "  \"inputField\": \"col\",\n",
    "  \"outputView\": \"edges\",\n",
    "  \"persist\": true\n",
    "}"
   ]
  },
  {
   "cell_type": "code",
   "execution_count": null,
   "metadata": {},
   "outputs": [],
   "source": [
    "%sql outputView=directed\n",
    "SELECT DISTINCT\n",
    "  _key AS id\n",
    "  ,_from as source\n",
    "  ,_to AS target\n",
    "FROM edges\n",
    "WHERE `$label`='DIRECTED'"
   ]
  },
  {
   "cell_type": "code",
   "execution_count": null,
   "metadata": {},
   "outputs": [],
   "source": [
    "%sql outputView=acts_in\n",
    "SELECT DISTINCT\n",
    "  _key AS id\n",
    "  ,_from as source\n",
    "  ,_to AS target\n",
    "FROM edges\n",
    "WHERE `$label`='ACTS_IN'"
   ]
  },
  {
   "cell_type": "code",
   "execution_count": null,
   "metadata": {},
   "outputs": [],
   "source": [
    "{\n",
    "  \"type\": \"GraphTransform\",\n",
    "  \"name\": \"create imdb graph\",\n",
    "  \"environments\": [\n",
    "    \"production\",\n",
    "    \"test\"\n",
    "  ],\n",
    "  \"nodes\": [\n",
    "    {\"label\": \"Person\", \"view\": \"person\"},\n",
    "    {\"label\": \"Movie\", \"view\": \"movie\"},\n",
    "  ],\n",
    "  \"relationships\": [\n",
    "    {\"type\": \"ACTS_IN\", \"view\": \"acts_in\"},\n",
    "    {\"type\": \"DIRECTED\", \"view\": \"directed\"}\n",
    "  ],\n",
    "  \"outputGraph\": \"imdb\",\n",
    "  \"persist\": true\n",
    "} "
   ]
  },
  {
   "cell_type": "code",
   "execution_count": null,
   "metadata": {},
   "outputs": [],
   "source": [
    "%cypher\n",
    "FROM session.imdb\n",
    "MATCH (p0:Person)-[:ACTS_IN]->(m:Movie)<-[:ACTS_IN]-(p1:Person)\n",
    "WHERE p0.name = 'Robin Williams'\n",
    "AND p0.key <> p1.key\n",
    "RETURN p0.name, p1.name\n",
    "ORDER BY m.releaseDate"
   ]
  },
  {
   "cell_type": "code",
   "execution_count": null,
   "metadata": {},
   "outputs": [],
   "source": []
  }
 ],
 "metadata": {
  "kernelspec": {
   "display_name": "Arc",
   "language": "javascript",
   "name": "arc"
  },
  "language_info": {
   "file_extension": "arc",
   "mimetype": "text/arc",
   "name": "arc",
   "nbconvert_exporter": "text",
   "version": "1.9.0"
  }
 },
 "nbformat": 4,
 "nbformat_minor": 2
}
